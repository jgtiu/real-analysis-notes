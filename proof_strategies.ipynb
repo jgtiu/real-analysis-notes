{
  "nbformat": 4,
  "nbformat_minor": 0,
  "metadata": {
    "colab": {
      "name": "proof-strategies",
      "version": "0.3.2",
      "provenance": [],
      "include_colab_link": true
    },
    "kernelspec": {
      "name": "python3",
      "display_name": "Python 3"
    }
  },
  "cells": [
    {
      "cell_type": "markdown",
      "metadata": {
        "id": "view-in-github",
        "colab_type": "text"
      },
      "source": [
        "<a href=\"https://colab.research.google.com/github/jgtiu/real-analysis-notes/blob/master/proof_strategies.ipynb\" target=\"_parent\"><img src=\"https://colab.research.google.com/assets/colab-badge.svg\" alt=\"Open In Colab\"/></a>"
      ]
    },
    {
      "cell_type": "markdown",
      "metadata": {
        "id": "_pSz0gUzaF71",
        "colab_type": "text"
      },
      "source": [
        "# Proof strategies"
      ]
    },
    {
      "cell_type": "markdown",
      "metadata": {
        "id": "-0vBfym6-Z-c",
        "colab_type": "text"
      },
      "source": [
        "## Tip: Always use definitions.\n",
        "\n",
        "Explanation: Definitions are the building blocks of proofs. Unlike a theorem, you take a definition as fact and don't have to prove it. Use them liberally and the task of proving becomes a lot easier.\n",
        "\n",
        "Example: Prove that a square is a rectangle.\n",
        "\n",
        "Approach: A rectangle is a quadrilateral with four right angles. A square, by definition, satisfies these conditions, so a square is a rectangle.\n",
        "___"
      ]
    },
    {
      "cell_type": "markdown",
      "metadata": {
        "id": "qlhgT5hF8Tho",
        "colab_type": "text"
      },
      "source": [
        "## Task: Prove that a statement is false.\n",
        "\n",
        "Strategy: Use counterexamples.\n",
        "\n",
        "Explanation: As a rule, you can't use an example to prove a general statement true, but you can use a counterexample to prove a statement false.\n",
        "\n",
        "Example: Let $f(x) := x^2$ for $x \\in \\mathbb{R}$, and let $E := \\{x \\in \\mathbb{R}: -1 \\leq x \\leq 0\\}$ and $F := \\{x \\in \\mathbb{R}: 0 \\leq x \\leq 1\\}$. Show that it is _not_ true that $f(E \\backslash F) \\subseteq f(E) \\backslash f(F)$.\n",
        "\n",
        "Approach: For this example, you only need to find one element in $f(E \\backslash F)$ that is not in $f(E) \\backslash f(F)$. Once you find that element, you can already say that $f(E \\backslash F) \\nsubseteq f(E) \\backslash f(F)$.\n",
        "___"
      ]
    },
    {
      "cell_type": "markdown",
      "metadata": {
        "id": "3JC5qaZR8JhL",
        "colab_type": "text"
      },
      "source": [
        "## Task: Prove that two sets $A$ and $B$ are equal.\n",
        "\n",
        "Strategy: Show that $A \\subseteq B$ and $B \\subseteq A$.\n",
        "___"
      ]
    },
    {
      "cell_type": "markdown",
      "metadata": {
        "id": "KDd4ILwI-7dH",
        "colab_type": "text"
      },
      "source": [
        "## Task: Prove that $A \\subseteq B$.\n",
        "\n",
        "Strategy: Take an arbitrary element of $A$, say $a$, and prove that $a$ is also an element of $B$. Once you've proven that, then you can assert that $A \\subseteq B$ because $a$ is arbitrary.\n",
        "___"
      ]
    },
    {
      "cell_type": "markdown",
      "metadata": {
        "id": "3vl2FTCq8R_c",
        "colab_type": "text"
      },
      "source": [
        "## Task: Prove that $P \\implies Q$.\n",
        "\n",
        "Note: $P \\implies Q$ is shorthand for \"if $P$, then $Q$.\"\n",
        "\n",
        "Strategy: Use already-established axioms or theorems to prove directly from $P$ to $Q$, OR prove the contrapositive. A contrapositive is of the form $\\lnot Q \\implies \\lnot P$ and is exactly the same as saying $P \\implies Q$.\n",
        "\n",
        "Gotchas: Lots of people make the mistake of thinking proving $Q \\implies P$ proves $P \\implies Q$. Be careful that you don't fall into this circular argument.\n",
        "___"
      ]
    },
    {
      "cell_type": "markdown",
      "metadata": {
        "id": "WLr88NPAIJd3",
        "colab_type": "text"
      },
      "source": [
        "## Task: Prove that $P \\iff Q$\n",
        "\n",
        "Strategy: Like proving set equality, there are two parts to this strategy. First show that $P \\implies Q$, then show that $Q \\implies P$. You can use contrapositives here as well.\n",
        "___"
      ]
    },
    {
      "cell_type": "markdown",
      "metadata": {
        "id": "3VW0vH26F-fi",
        "colab_type": "text"
      },
      "source": [
        "## Task: Prove that a function is injective.\n",
        "\n",
        "Strategy: Show that for the function $f: A \\to B$, for all $x_1, x_2 \\in A$ if $x_1 \\neq x_2$, then $f(x_1) \\neq f(x_2)$. You can also use the contrapositive for this. and instead prove that if $f(x_1) = f(x_2)$, then $x_1 = x_2$.\n",
        "___"
      ]
    },
    {
      "cell_type": "markdown",
      "metadata": {
        "id": "Tc-2kp9sG47c",
        "colab_type": "text"
      },
      "source": [
        "## Task: Prove that a function is surjective.\n",
        "\n",
        "Strategy: Show that for the function $f: A \\to B$, for all $b \\in B$, there exists at least one $x \\in A$ such that $f(x) = b$.\n",
        "___"
      ]
    }
  ]
}